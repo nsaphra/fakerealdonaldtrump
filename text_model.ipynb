{
 "cells": [
  {
   "cell_type": "code",
   "execution_count": 70,
   "metadata": {
    "scrolled": true
   },
   "outputs": [],
   "source": [
    "import keras\n",
    "from keras.models import Sequential, Model\n",
    "from keras.layers import *\n",
    "from collections import Counter\n",
    "import numpy as np\n",
    "import pandas"
   ]
  },
  {
   "cell_type": "code",
   "execution_count": 71,
   "metadata": {
    "collapsed": true
   },
   "outputs": [],
   "source": [
    "vocab_size = 5000"
   ]
  },
  {
   "cell_type": "code",
   "execution_count": 78,
   "metadata": {
    "collapsed": true
   },
   "outputs": [],
   "source": [
    "class RNNTextModel:\n",
    "    def __init__(self, input_vocab_size, embedding_dim, hidden_dim):\n",
    "        self.input_vocab_size = input_vocab_size\n",
    "        \n",
    "        self.text_input = Input(shape=(140,), dtype='int32')\n",
    "        \n",
    "        self.text_model = Sequential()\n",
    "        self.text_model.add(embeddings.Embedding(input_vocab_size, embedding_dim))\n",
    "        self.text_model.add(recurrent.LSTM(hidden_dim, input_shape=(None, embedding_dim)))\n",
    "        \n",
    "        self.encoded_text = self.text_model(self.text_input)\n",
    "        \n",
    "        self.output = Dense(hidden_dim, activation='sigmoid')(self.encoded_text)\n",
    "        \n",
    "        self.model = Model(inputs=[self.text_input], outputs=self.output)\n",
    "        self.model.compile(optimizer='rmsprop', loss='binary_crossentropy', metrics=['accuracy'])\n",
    "        \n",
    "    def fit(self, texts, labels, **kwargs):\n",
    "        return self.model.fit([texts], labels, kwargs)"
   ]
  },
  {
   "cell_type": "code",
   "execution_count": 73,
   "metadata": {
    "collapsed": true
   },
   "outputs": [],
   "source": [
    "class Preprocessor:\n",
    "    def __init__(self, num_words=None, lower=True, char_level=False):\n",
    "        self.tokenizer = keras.preprocessing.text.Tokenizer(num_words=num_words, filters='', lower=lower, char_level=char_level)\n",
    "\n",
    "    def __call__(self, texts):\n",
    "        self.tokenizer.fit_on_texts(texts)\n",
    "        matrix = self.tokenizer.texts_to_matrix(texts)\n",
    "        return matrix\n",
    "    \n",
    "    def vocab_size(self):\n",
    "        return len(self.tokenizer.word_counts)"
   ]
  },
  {
   "cell_type": "code",
   "execution_count": 34,
   "metadata": {},
   "outputs": [
    {
     "data": {
      "text/html": [
       "<div>\n",
       "<style>\n",
       "    .dataframe thead tr:only-child th {\n",
       "        text-align: right;\n",
       "    }\n",
       "\n",
       "    .dataframe thead th {\n",
       "        text-align: left;\n",
       "    }\n",
       "\n",
       "    .dataframe tbody tr th {\n",
       "        vertical-align: top;\n",
       "    }\n",
       "</style>\n",
       "<table border=\"1\" class=\"dataframe\">\n",
       "  <thead>\n",
       "    <tr style=\"text-align: right;\">\n",
       "      <th></th>\n",
       "      <th>source</th>\n",
       "      <th>favorite_count</th>\n",
       "      <th>created_at</th>\n",
       "      <th>retweet_count</th>\n",
       "      <th>text</th>\n",
       "      <th>id_str</th>\n",
       "      <th>in_reply_to_user_id_str</th>\n",
       "      <th>is_retweet</th>\n",
       "      <th>count</th>\n",
       "      <th>date</th>\n",
       "      <th>time</th>\n",
       "      <th>hour</th>\n",
       "      <th>weekday</th>\n",
       "      <th>metatweet</th>\n",
       "      <th>contains_url</th>\n",
       "      <th>is_trump</th>\n",
       "    </tr>\n",
       "  </thead>\n",
       "  <tbody>\n",
       "    <tr>\n",
       "      <th>0</th>\n",
       "      <td>Twitter Web Client</td>\n",
       "      <td>12</td>\n",
       "      <td>Wed Dec 23 17:38:18 +0000 2009</td>\n",
       "      <td>28</td>\n",
       "      <td>From Donald Trump: Wishing everyone a wonderfu...</td>\n",
       "      <td>6971079756</td>\n",
       "      <td>NaN</td>\n",
       "      <td>False</td>\n",
       "      <td>1</td>\n",
       "      <td>2009-12-23 17:38:18</td>\n",
       "      <td>17:38:18</td>\n",
       "      <td>17</td>\n",
       "      <td>2</td>\n",
       "      <td>False</td>\n",
       "      <td>False</td>\n",
       "      <td>False</td>\n",
       "    </tr>\n",
       "    <tr>\n",
       "      <th>1</th>\n",
       "      <td>Twitter Web Client</td>\n",
       "      <td>6</td>\n",
       "      <td>Thu Dec 03 19:39:09 +0000 2009</td>\n",
       "      <td>33</td>\n",
       "      <td>Trump International Tower in Chicago ranked 6t...</td>\n",
       "      <td>6312794445</td>\n",
       "      <td>NaN</td>\n",
       "      <td>False</td>\n",
       "      <td>1</td>\n",
       "      <td>2009-12-03 19:39:09</td>\n",
       "      <td>19:39:09</td>\n",
       "      <td>19</td>\n",
       "      <td>3</td>\n",
       "      <td>False</td>\n",
       "      <td>True</td>\n",
       "      <td>False</td>\n",
       "    </tr>\n",
       "    <tr>\n",
       "      <th>2</th>\n",
       "      <td>Twitter Web Client</td>\n",
       "      <td>11</td>\n",
       "      <td>Thu Nov 26 19:55:38 +0000 2009</td>\n",
       "      <td>13</td>\n",
       "      <td>Wishing you and yours a very Happy and Bountif...</td>\n",
       "      <td>6090839867</td>\n",
       "      <td>NaN</td>\n",
       "      <td>False</td>\n",
       "      <td>1</td>\n",
       "      <td>2009-11-26 19:55:38</td>\n",
       "      <td>19:55:38</td>\n",
       "      <td>19</td>\n",
       "      <td>3</td>\n",
       "      <td>False</td>\n",
       "      <td>False</td>\n",
       "      <td>False</td>\n",
       "    </tr>\n",
       "    <tr>\n",
       "      <th>3</th>\n",
       "      <td>Twitter Web Client</td>\n",
       "      <td>3</td>\n",
       "      <td>Mon Nov 16 21:06:10 +0000 2009</td>\n",
       "      <td>5</td>\n",
       "      <td>Donald Trump Partners with TV1 on New Reality ...</td>\n",
       "      <td>5775731054</td>\n",
       "      <td>NaN</td>\n",
       "      <td>False</td>\n",
       "      <td>1</td>\n",
       "      <td>2009-11-16 21:06:10</td>\n",
       "      <td>21:06:10</td>\n",
       "      <td>21</td>\n",
       "      <td>0</td>\n",
       "      <td>False</td>\n",
       "      <td>True</td>\n",
       "      <td>False</td>\n",
       "    </tr>\n",
       "    <tr>\n",
       "      <th>4</th>\n",
       "      <td>Twitter Web Client</td>\n",
       "      <td>6</td>\n",
       "      <td>Mon Nov 02 14:57:56 +0000 2009</td>\n",
       "      <td>7</td>\n",
       "      <td>--Work has begun, ahead of schedule, to build ...</td>\n",
       "      <td>5364614040</td>\n",
       "      <td>NaN</td>\n",
       "      <td>False</td>\n",
       "      <td>1</td>\n",
       "      <td>2009-11-02 14:57:56</td>\n",
       "      <td>14:57:56</td>\n",
       "      <td>14</td>\n",
       "      <td>0</td>\n",
       "      <td>False</td>\n",
       "      <td>False</td>\n",
       "      <td>False</td>\n",
       "    </tr>\n",
       "  </tbody>\n",
       "</table>\n",
       "</div>"
      ],
      "text/plain": [
       "               source  favorite_count                      created_at  \\\n",
       "0  Twitter Web Client              12  Wed Dec 23 17:38:18 +0000 2009   \n",
       "1  Twitter Web Client               6  Thu Dec 03 19:39:09 +0000 2009   \n",
       "2  Twitter Web Client              11  Thu Nov 26 19:55:38 +0000 2009   \n",
       "3  Twitter Web Client               3  Mon Nov 16 21:06:10 +0000 2009   \n",
       "4  Twitter Web Client               6  Mon Nov 02 14:57:56 +0000 2009   \n",
       "\n",
       "   retweet_count                                               text  \\\n",
       "0             28  From Donald Trump: Wishing everyone a wonderfu...   \n",
       "1             33  Trump International Tower in Chicago ranked 6t...   \n",
       "2             13  Wishing you and yours a very Happy and Bountif...   \n",
       "3              5  Donald Trump Partners with TV1 on New Reality ...   \n",
       "4              7  --Work has begun, ahead of schedule, to build ...   \n",
       "\n",
       "       id_str  in_reply_to_user_id_str  is_retweet  count                date  \\\n",
       "0  6971079756                      NaN       False      1 2009-12-23 17:38:18   \n",
       "1  6312794445                      NaN       False      1 2009-12-03 19:39:09   \n",
       "2  6090839867                      NaN       False      1 2009-11-26 19:55:38   \n",
       "3  5775731054                      NaN       False      1 2009-11-16 21:06:10   \n",
       "4  5364614040                      NaN       False      1 2009-11-02 14:57:56   \n",
       "\n",
       "       time  hour  weekday  metatweet  contains_url  is_trump  \n",
       "0  17:38:18    17        2      False         False     False  \n",
       "1  19:39:09    19        3      False          True     False  \n",
       "2  19:55:38    19        3      False         False     False  \n",
       "3  21:06:10    21        0      False          True     False  \n",
       "4  14:57:56    14        0      False         False     False  "
      ]
     },
     "execution_count": 34,
     "metadata": {},
     "output_type": "execute_result"
    }
   ],
   "source": [
    "tweets = pandas.read_csv(\"trumptweets.csv\")\n",
    "tweets['count'] = 1\n",
    "tweets['date'] = pandas.to_datetime(tweets['created_at'])\n",
    "tweets['time'] = tweets['date'].dt.time\n",
    "tweets['hour'] = tweets['date'].dt.hour\n",
    "tweets['weekday'] = tweets['date'].dt.weekday\n",
    "tweets['metatweet'] = tweets['text'].str.startswith('\\\"@')\n",
    "tweets['contains_url'] = tweets['text'].str.find('http') >= 0\n",
    "tweets['is_trump'] = tweets['source'] == 'Twitter for Android'\n",
    "tweets.head()"
   ]
  },
  {
   "cell_type": "code",
   "execution_count": 74,
   "metadata": {},
   "outputs": [],
   "source": [
    "is_2016 = tweets['date'].dt.year == 2016\n",
    "is_iphone = tweets['source'] == 'Twitter for iPhone'\n",
    "is_android = tweets['source'] == 'Twitter for Android'\n",
    "\n",
    "train_set = tweets[(is_2016)&((is_iphone)|(is_android))]\n",
    "tweet_texts = list(train_set['text'])"
   ]
  },
  {
   "cell_type": "code",
   "execution_count": 75,
   "metadata": {},
   "outputs": [],
   "source": [
    "preproc = Preprocessor()\n",
    "preproc_texts = preproc(tweet_texts)"
   ]
  },
  {
   "cell_type": "code",
   "execution_count": 76,
   "metadata": {},
   "outputs": [],
   "source": [
    "vocab_size = preproc.vocab_size()\n",
    "hidden_dim = 50\n",
    "embedding_dim = 100"
   ]
  },
  {
   "cell_type": "code",
   "execution_count": 79,
   "metadata": {},
   "outputs": [],
   "source": [
    "text_model = RNNTextModel(vocab_size, embedding_dim, hidden_dim)"
   ]
  },
  {
   "cell_type": "code",
   "execution_count": null,
   "metadata": {
    "collapsed": true
   },
   "outputs": [],
   "source": [
    "text_model.fit()\n",
    "\n",
    "def cross_validation(data, labels, folds=10):\n",
    "    \n",
    "    for i in range(folds):\n",
    "        test_data = data[i::folds]\n",
    "        for j in range(folds):\n",
    "            if i != j:\n",
    "                train_data += data[i::folds]\n",
    "            \n",
    "        \n",
    "        "
   ]
  }
 ],
 "metadata": {
  "kernelspec": {
   "display_name": "Python 3",
   "language": "python",
   "name": "python3"
  },
  "language_info": {
   "codemirror_mode": {
    "name": "ipython",
    "version": 3
   },
   "file_extension": ".py",
   "mimetype": "text/x-python",
   "name": "python",
   "nbconvert_exporter": "python",
   "pygments_lexer": "ipython3",
   "version": "3.6.1"
  }
 },
 "nbformat": 4,
 "nbformat_minor": 2
}
